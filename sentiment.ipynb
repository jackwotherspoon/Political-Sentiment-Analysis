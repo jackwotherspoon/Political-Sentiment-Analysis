{
 "cells": [
  {
   "cell_type": "markdown",
   "metadata": {},
   "source": [
    "### Import Dependencies and Initialize Twitter API"
   ]
  },
  {
   "cell_type": "code",
   "execution_count": 1,
   "metadata": {},
   "outputs": [],
   "source": [
    "import tweepy\n",
    "import time\n",
    "\n",
    "# your twitter app credentials\n",
    "CONSUMER_KEY = <YOUR CONSUMER KEY>\n",
    "CONSUMER_SECRET = <YOUR CONSUMER SECRET>\n",
    "ACCESS_TOKEN = <YOUR ACCESS TOKEN>\n",
    "ACCESS_SECRET = <YOUR ACCESS SECRET>\n",
    "\n",
    "# create twitter api object with your credentials using tweepy\n",
    "auth = tweepy.OAuthHandler(CONSUMER_KEY, CONSUMER_SECRET)\n",
    "auth.set_access_token(ACCESS_TOKEN, ACCESS_SECRET)\n",
    "api = tweepy.API(auth)"
   ]
  },
  {
   "cell_type": "markdown",
   "metadata": {},
   "source": [
    "### Create Dataset\n",
    "Twitter has a limit on how many tweets you can return from it's API on a given user. This limit is 3200, therefore we will gather a dataset of the 3200 most recent tweets from a user using the below function. It will save the tweets to a CSV file with the name of the twitter handle that is passed into the function."
   ]
  },
  {
   "cell_type": "code",
   "execution_count": 2,
   "metadata": {},
   "outputs": [],
   "source": [
    "def getTweets(twitter_handle):\n",
    "    try:\n",
    "        tweets = tweepy.Cursor(api.user_timeline, screen_name = twitter_handle, exclude_replies = True, include_rts = False, tweet_mode = 'extended').items()\n",
    "        \n",
    "        return (status.full_text for status in tweets)\n",
    "    except tweepy.TweepError:  \n",
    "        print(\"Waiting...\")\n",
    "        time.sleep(60)\n",
    "        \n",
    "        return None\n",
    "\n",
    "def buildDataset(twitter_handle):\n",
    "    data = getTweets(twitter_handle)\n",
    "    with open(twitter_handle+'.csv', 'w', encoding = 'utf-8') as file:\n",
    "        for tweet in data:\n",
    "            file.write(tweet)\n",
    "            file.write('\\n')\n",
    "\n",
    "#create CSV file with Trudeau tweets\n",
    "buildDataset(\"JustinTrudeau\")"
   ]
  }
 ],
 "metadata": {
  "kernelspec": {
   "display_name": "Python 3",
   "language": "python",
   "name": "python3"
  },
  "language_info": {
   "codemirror_mode": {
    "name": "ipython",
    "version": 3
   },
   "file_extension": ".py",
   "mimetype": "text/x-python",
   "name": "python",
   "nbconvert_exporter": "python",
   "pygments_lexer": "ipython3",
   "version": "3.7.4"
  }
 },
 "nbformat": 4,
 "nbformat_minor": 2
}
