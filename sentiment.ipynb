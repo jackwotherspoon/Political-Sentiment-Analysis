{
 "cells": [
  {
   "cell_type": "markdown",
   "metadata": {},
   "source": [
    "### Import Dependencies and Initialize Twitter API"
   ]
  },
  {
   "cell_type": "code",
   "execution_count": 9,
   "metadata": {},
   "outputs": [],
   "source": [
    "import tweepy\n",
    "import time\n",
    "import re\n",
    "import nltk\n",
    "from nltk.tokenize import word_tokenize\n",
    "from nltk.corpus import stopwords\n",
    "from string import punctuation\n",
    "\n",
    "# your twitter app credentials\n",
    "CONSUMER_KEY = <YOUR CONSUMER KEY>\n",
    "CONSUMER_SECRET = <YOUR CONSUMER SECRET>\n",
    "ACCESS_TOKEN = <YOUR ACCESS TOKEN>\n",
    "ACCESS_SECRET = <YOUR ACCESS SECRET>\n",
    "\n",
    "# create twitter api object with your credentials using tweepy\n",
    "auth = tweepy.OAuthHandler(CONSUMER_KEY, CONSUMER_SECRET)\n",
    "auth.set_access_token(ACCESS_TOKEN, ACCESS_SECRET)\n",
    "api = tweepy.API(auth)"
   ]
  },
  {
   "cell_type": "markdown",
   "metadata": {},
   "source": [
    "### Create Dataset\n",
    "Twitter has a limit on how many tweets you can return from it's API on a given user. This limit is 3200, therefore we will gather a dataset of the 3200 most recent tweets from a user using the below function. It will save the tweets to a CSV file with the name of the twitter handle that is passed into the function."
   ]
  },
  {
   "cell_type": "code",
   "execution_count": 2,
   "metadata": {},
   "outputs": [],
   "source": [
    "def getTweets(twitter_handle):\n",
    "    try:\n",
    "        tweets = tweepy.Cursor(api.user_timeline, screen_name = twitter_handle, exclude_replies = True, include_rts = False, tweet_mode = 'extended').items()\n",
    "        \n",
    "        return (status.full_text for status in tweets)\n",
    "    except tweepy.TweepError:  \n",
    "        print(\"Waiting...\")\n",
    "        time.sleep(60)\n",
    "        \n",
    "        return None\n",
    "\n",
    "def buildDataset(twitter_handle):\n",
    "    data = getTweets(twitter_handle)\n",
    "    with open(twitter_handle+'.csv', 'w', encoding = 'utf-8') as file:\n",
    "        for tweet in data:\n",
    "            file.write(tweet)\n",
    "            file.write('\\n')"
   ]
  },
  {
   "cell_type": "code",
   "execution_count": 3,
   "metadata": {},
   "outputs": [],
   "source": [
    "#create CSV file with Trudeau tweets\n",
    "buildDataset(\"JustinTrudeau\")"
   ]
  },
  {
   "cell_type": "code",
   "execution_count": 3,
   "metadata": {},
   "outputs": [],
   "source": [
    "#create CSV file with Trump tweets\n",
    "buildDataset(\"realDonaldTrump\")"
   ]
  },
  {
   "cell_type": "markdown",
   "metadata": {},
   "source": [
    "### Cleaning and Preprocessing Dataset"
   ]
  },
  {
   "cell_type": "code",
   "execution_count": 4,
   "metadata": {},
   "outputs": [],
   "source": [
    "def cleanData(twitter_handle):\n",
    "    with open(twitter_handle+'.csv', 'r', encoding = 'utf-8') as file:\n",
    "        with open(twitter_handle+'_cleaned.csv', 'w', encoding = 'utf-8') as clean_file:\n",
    "            for tweet in file:\n",
    "                tweet = tweet.lower() #lower case\n",
    "                tweet = re.sub(r'https?:\\/\\/.*[\\r\\n]*', '\\n', tweet) #remove all URLs\n",
    "                tweet = re.sub('@[^\\s]+', '', tweet) #remove the @users\n",
    "                tweet = re.sub(r'#([^\\s]+)', r'\\1', tweet) # remove the # in #hashtag\n",
    "                clean_file.write(tweet)\n",
    "            clean_file.close()\n",
    "        file.close()"
   ]
  },
  {
   "cell_type": "code",
   "execution_count": 7,
   "metadata": {
    "scrolled": true
   },
   "outputs": [],
   "source": [
    "cleanData(\"JustinTrudeau\")"
   ]
  },
  {
   "cell_type": "code",
   "execution_count": 8,
   "metadata": {},
   "outputs": [],
   "source": [
    "cleanData(\"realDonaldTrump\")"
   ]
  },
  {
   "cell_type": "code",
   "execution_count": 10,
   "metadata": {},
   "outputs": [
    {
     "name": "stdout",
     "output_type": "stream",
     "text": [
      "{'both', 'down', 'she', 'be', 'it', \"it's\", 'have', 'shouldn', 'himself', 'if', 'with', 'i', 'wasn', 'me', 'but', 'other', 'itself', 'their', 'until', 'been', 'should', 'doesn', 'further', 'any', \"you're\", \"mightn't\", \"haven't\", 'above', 'this', \"shouldn't\", 'ourselves', 'they', 'while', 'out', 'off', 'herself', 'now', 'aren', 'of', 'nor', 'does', 'll', 'our', 'haven', 'his', 'what', 'few', 'd', \"couldn't\", 'up', \"didn't\", \"needn't\", 'yourselves', 'being', 'about', 'on', 'having', 'did', 'hasn', 'your', 'in', 'own', 's', 'after', 'shan', 'such', 'mustn', 'will', 'won', 're', 'to', 'doing', 'o', 'we', 'yours', 'ma', 'mightn', 'an', 'over', \"hadn't\", 'more', 'all', 'so', 'during', 'didn', 'against', 'there', 'weren', \"you've\", 'myself', 'then', 'you', 'do', 'not', 'most', 'couldn', \"you'll\", 'before', 'and', 'has', 'each', 'don', 'when', 'wouldn', 'the', 'y', 'them', 'again', 'that', 'him', \"isn't\", \"don't\", \"she's\", 'hadn', 'why', \"mustn't\", 'at', 'same', 'isn', \"doesn't\", 'theirs', 'too', 'can', 'had', 'here', 'where', 'through', 'her', \"should've\", 'as', 'hers', 'very', 'just', 'between', \"hasn't\", \"that'll\", \"aren't\", \"won't\", 'themselves', 'below', 'once', 'some', 'by', \"shan't\", 'are', 'under', 'he', 'whom', 'for', 'is', 'am', 'those', 'ours', 'no', 'needn', 'these', 'from', 'how', 'was', 'or', 'only', 've', 'its', \"wasn't\", \"wouldn't\", 'than', 'because', 'my', \"weren't\", 'which', 'were', 'm', 'yourself', \"you'd\", 'who', 'a', 'into', 'ain', 't'}\n"
     ]
    }
   ],
   "source": [
    "stop_words = set(stopwords.words('english')) \n",
    "print(stop_words)"
   ]
  }
 ],
 "metadata": {
  "kernelspec": {
   "display_name": "Python 3",
   "language": "python",
   "name": "python3"
  },
  "language_info": {
   "codemirror_mode": {
    "name": "ipython",
    "version": 3
   },
   "file_extension": ".py",
   "mimetype": "text/x-python",
   "name": "python",
   "nbconvert_exporter": "python",
   "pygments_lexer": "ipython3",
   "version": "3.7.4"
  }
 },
 "nbformat": 4,
 "nbformat_minor": 2
}
