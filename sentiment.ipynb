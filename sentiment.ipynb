{
 "cells": [
  {
   "cell_type": "markdown",
   "metadata": {},
   "source": [
    "### Import Dependencies and Initialize Twitter API"
   ]
  },
  {
   "cell_type": "code",
   "execution_count": 1,
   "metadata": {},
   "outputs": [],
   "source": [
    "import twitter\n",
    "import os\n",
    "from textblob import TextBlob \n",
    "import re\n",
    "\n",
    "# your twitter app credentials\n",
    "CONSUMER_KEY = <Your Consumer Key>\n",
    "CONSUMER_SECRET = <Your Consumer Secret>\n",
    "ACCESS_TOKEN = <Your Access Token>\n",
    "ACCESS_SECRET = <Your Access Secret>\n",
    "\n",
    "twitter_api = twitter.Api(consumer_key=CONSUMER_KEY,\n",
    "                consumer_secret=CONSUMER_SECRET,\n",
    "                access_token_key=ACCESS_TOKEN,\n",
    "                access_token_secret=ACCESS_SECRET)"
   ]
  },
  {
   "cell_type": "markdown",
   "metadata": {},
   "source": [
    "### Create Dataset\n",
    "Twitter has a limit on how many requests a user can make through the API as a security measure. This function will constantly update a csv file with twitter data based off a keyword."
   ]
  },
  {
   "cell_type": "code",
   "execution_count": 3,
   "metadata": {},
   "outputs": [],
   "source": [
    "def buildDataset(keyword):\n",
    "    try:\n",
    "        tweets = twitter_api.GetSearch(keyword, count = 100)\n",
    "        print(\"Fetched \" + str(len(tweets)) + \"tweets for the term \" + keyword)\n",
    "        \n",
    "        return [{\"text\":status.text, \"label\":None} for status in tweets]\n",
    "    except:\n",
    "        print(\"Error has occured getting tweets.\")\n",
    "        \n",
    "        return None"
   ]
  }
 ],
 "metadata": {
  "kernelspec": {
   "display_name": "Python 3",
   "language": "python",
   "name": "python3"
  },
  "language_info": {
   "codemirror_mode": {
    "name": "ipython",
    "version": 3
   },
   "file_extension": ".py",
   "mimetype": "text/x-python",
   "name": "python",
   "nbconvert_exporter": "python",
   "pygments_lexer": "ipython3",
   "version": "3.7.4"
  }
 },
 "nbformat": 4,
 "nbformat_minor": 2
}
